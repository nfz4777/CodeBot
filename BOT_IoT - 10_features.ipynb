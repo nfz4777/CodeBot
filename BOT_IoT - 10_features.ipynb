{
 "cells": [
  {
   "cell_type": "code",
   "execution_count": 1,
   "id": "5cfb0160",
   "metadata": {},
   "outputs": [],
   "source": [
    "import pandas as pd\n",
    "import matplotlib.pyplot as plt\n",
    "import seaborn as sns\n",
    "import itertools\n",
    "import random\n",
    "import numpy as np\n",
    "\n",
    "# processing imports\n",
    "from sklearn.preprocessing import LabelEncoder\n",
    "from sklearn.model_selection import train_test_split,StratifiedKFold,GridSearchCV\n",
    "from sklearn.model_selection import GridSearchCV,RandomizedSearchCV\n",
    "from sklearn.model_selection import cross_val_score\n",
    "from sklearn.metrics import mean_absolute_error\n",
    "from sklearn.metrics import accuracy_score\n",
    "from sklearn.metrics import confusion_matrix\n",
    "\n",
    "from joblib import dump, load\n",
    "from sklearn.metrics import accuracy_score, f1_score, precision_score,recall_score\n",
    "from sklearn.linear_model import Perceptron\n",
    "from sklearn.linear_model import LogisticRegression\n",
    "from sklearn.neural_network import MLPClassifier\n",
    "from sklearn.tree import DecisionTreeClassifier\n",
    "from sklearn.ensemble import RandomForestClassifier, VotingClassifier\n",
    "from sklearn.ensemble import BaggingClassifier\n",
    "from sklearn.ensemble import AdaBoostClassifier\n",
    "from sklearn.svm import SVC\n",
    "\n",
    "\n",
    "from sklearn import svm, datasets\n",
    "from sklearn.model_selection import train_test_split\n",
    "from sklearn.utils.multiclass import unique_labels\n",
    "from sklearn.metrics import roc_curve, auc\n",
    "from sklearn.model_selection import train_test_split\n",
    "from sklearn.preprocessing import label_binarize\n",
    "from sklearn.multiclass import OneVsRestClassifier\n",
    "from scipy import interp\n",
    "from itertools import cycle\n",
    "import seaborn as sns\n",
    "from sklearn.datasets import make_classification\n",
    "from sklearn.neighbors import KNeighborsClassifier\n",
    "from sklearn.ensemble import RandomForestClassifier\n",
    "from sklearn.metrics import roc_curve\n",
    "from sklearn.metrics import roc_auc_score\n",
    "import sklearn.metrics as metrics\n",
    "\n",
    "from datetime import datetime\n",
    "import tensorflow as tf\n",
    "tf.compat.v1.disable_eager_execution()\n",
    "from tensorflow.keras.models import load_model\n",
    "from tensorflow.keras.layers import Lambda, Input, Dense\n",
    "from tensorflow.keras.losses import mse, binary_crossentropy, kl_divergence\n",
    "from tensorflow.keras import optimizers\n",
    "from tensorflow.keras import backend as K\n",
    "from sklearn.preprocessing import MinMaxScaler, PowerTransformer\n",
    "from sklearn.manifold import TSNE\n",
    "from sklearn import preprocessing\n",
    "from sklearn.decomposition import PCA \n",
    "from tensorflow.keras.models import Model\n",
    "from sklearn import metrics\n",
    "from sklearn.naive_bayes import GaussianNB\n",
    "from sklearn.metrics import make_scorer, roc_auc_score\n",
    "import scipy\n",
    "from scipy import stats\n",
    "import warnings\n",
    "warnings.filterwarnings(\"ignore\")\n",
    "from sklearn.preprocessing import StandardScaler, Normalizer\n",
    "import os \n",
    "import warnings\n",
    "import gc\n",
    "from plotly.subplots import make_subplots\n",
    "import plotly.express as px \n",
    "import plotly.graph_objects as go\n",
    "from sklearn.preprocessing import LabelEncoder, OneHotEncoder\n",
    "from sklearn.model_selection import train_test_split, KFold\n",
    "from sklearn.metrics import precision_recall_fscore_support, classification_report\n",
    "import sys\n",
    "import keras\n",
    "import sklearn\n",
    "from keras.models import Sequential\n",
    "from keras.layers import Dense, Dropout, Activation, Embedding, Flatten\n",
    "from keras.layers import LSTM, SimpleRNN, GRU, Bidirectional, BatchNormalization,Convolution1D,MaxPooling1D, Reshape, GlobalAveragePooling1D\n",
    "from keras.utils import to_categorical\n",
    "import sklearn.preprocessing\n",
    "from sklearn import metrics\n",
    "from scipy.stats import zscore\n",
    "from tensorflow.keras.utils import get_file, plot_model\n",
    "from sklearn.model_selection import train_test_split\n",
    "from tensorflow.keras.callbacks import EarlyStopping\n",
    "from sklearn.compose import ColumnTransformer\n",
    "from sklearn.preprocessing import MinMaxScaler\n",
    "from imblearn.over_sampling import SMOTE\n",
    "from sklearn.model_selection import GridSearchCV\n",
    "from keras.layers import  MaxPool1D, Conv1D\n",
    "from keras.optimizers import Adam\n",
    "from keras.callbacks import ModelCheckpoint"
   ]
  },
  {
   "cell_type": "code",
   "execution_count": 2,
   "id": "763ae948",
   "metadata": {},
   "outputs": [],
   "source": [
    "#To show evaluation metrices: classification report, F/P, F/N\n",
    "def report_heatmap(y_pred,y_test):\n",
    "    \n",
    "    # overall accuracy \n",
    "    acc = accuracy_score(y_test, y_pred)\n",
    "    print( f'Overall Accuracy: {acc*100:.2f}%' )\n",
    "    print(\"--------------------------\")    \n",
    "    \n",
    "    # report\n",
    "    print(classification_report(y_test, y_pred))\n",
    "    figsize=(8,5)\n",
    "    #y_pred = y_pred.astype(int)\n",
    "    cm = confusion_matrix(y_test, y_pred, labels=np.unique(y_test))\n",
    "    cm_sum = np.sum(cm, axis=1, keepdims=True)\n",
    "    cm_perc = cm / cm_sum.astype(float) * 100\n",
    "    annot = np.empty_like(cm).astype(str)\n",
    "    nrows, ncols = cm.shape\n",
    "    for i in range(nrows):\n",
    "        for j in range(ncols):\n",
    "            c = cm[i, j]\n",
    "            p = cm_perc[i, j]\n",
    "            if i == j:\n",
    "                s = cm_sum[i]\n",
    "                annot[i, j] = '%.1f%%\\n%d/%d' % (p, c, s)\n",
    "            elif c == 0:\n",
    "                annot[i, j] = ''\n",
    "            else:\n",
    "                annot[i, j] = '%.1f%%\\n%d' % (p, c)\n",
    "    cm = pd.DataFrame(cm, index=np.unique(y_test), columns=np.unique(y_test))\n",
    "    cm.index.name = 'Actual'\n",
    "    cm.columns.name = 'Predicted'\n",
    "    fig, ax = plt.subplots(figsize=figsize)\n",
    "    \n",
    "    sns.heatmap(cm, cmap= \"YlGnBu\", annot=annot, fmt='', ax=ax)"
   ]
  },
  {
   "cell_type": "markdown",
   "id": "377f3c3d",
   "metadata": {},
   "source": [
    "# Using 10 Best Features"
   ]
  },
  {
   "cell_type": "code",
   "execution_count": 3,
   "id": "0739c386",
   "metadata": {},
   "outputs": [
    {
     "data": {
      "text/plain": [
       "(3668522, 20)"
      ]
     },
     "execution_count": 3,
     "metadata": {},
     "output_type": "execute_result"
    }
   ],
   "source": [
    "bot_df= pd.read_csv('UNSW_2018_IoT_Botnet_Final_10_Best.csv',delimiter=';')\n",
    "bot_df.shape"
   ]
  },
  {
   "cell_type": "code",
   "execution_count": 4,
   "id": "f3b60707",
   "metadata": {},
   "outputs": [
    {
     "data": {
      "text/html": [
       "<div>\n",
       "<style scoped>\n",
       "    .dataframe tbody tr th:only-of-type {\n",
       "        vertical-align: middle;\n",
       "    }\n",
       "\n",
       "    .dataframe tbody tr th {\n",
       "        vertical-align: top;\n",
       "    }\n",
       "\n",
       "    .dataframe thead th {\n",
       "        text-align: right;\n",
       "    }\n",
       "</style>\n",
       "<table border=\"1\" class=\"dataframe\">\n",
       "  <thead>\n",
       "    <tr style=\"text-align: right;\">\n",
       "      <th></th>\n",
       "      <th>Unnamed: 0</th>\n",
       "      <th>pkSeqID</th>\n",
       "      <th>proto</th>\n",
       "      <th>saddr</th>\n",
       "      <th>sport</th>\n",
       "      <th>daddr</th>\n",
       "      <th>dport</th>\n",
       "      <th>seq</th>\n",
       "      <th>stddev</th>\n",
       "      <th>N_IN_Conn_P_SrcIP</th>\n",
       "      <th>min</th>\n",
       "      <th>state_number</th>\n",
       "      <th>mean</th>\n",
       "      <th>N_IN_Conn_P_DstIP</th>\n",
       "      <th>drate</th>\n",
       "      <th>srate</th>\n",
       "      <th>max</th>\n",
       "      <th>attack</th>\n",
       "      <th>category</th>\n",
       "      <th>subcategory</th>\n",
       "    </tr>\n",
       "  </thead>\n",
       "  <tbody>\n",
       "    <tr>\n",
       "      <th>0</th>\n",
       "      <td>0</td>\n",
       "      <td>1</td>\n",
       "      <td>tcp</td>\n",
       "      <td>192.168.100.147</td>\n",
       "      <td>49960</td>\n",
       "      <td>192.168.100.7</td>\n",
       "      <td>80</td>\n",
       "      <td>9</td>\n",
       "      <td>0.068909</td>\n",
       "      <td>75</td>\n",
       "      <td>0.000000</td>\n",
       "      <td>1</td>\n",
       "      <td>0.068909</td>\n",
       "      <td>96</td>\n",
       "      <td>14.511893</td>\n",
       "      <td>0.566862</td>\n",
       "      <td>0.137818</td>\n",
       "      <td>1</td>\n",
       "      <td>DoS</td>\n",
       "      <td>HTTP</td>\n",
       "    </tr>\n",
       "    <tr>\n",
       "      <th>1</th>\n",
       "      <td>1</td>\n",
       "      <td>2</td>\n",
       "      <td>arp</td>\n",
       "      <td>192.168.100.7</td>\n",
       "      <td>-1</td>\n",
       "      <td>192.168.100.147</td>\n",
       "      <td>-1</td>\n",
       "      <td>10</td>\n",
       "      <td>0.000000</td>\n",
       "      <td>2</td>\n",
       "      <td>0.000131</td>\n",
       "      <td>2</td>\n",
       "      <td>0.000131</td>\n",
       "      <td>1</td>\n",
       "      <td>0.000000</td>\n",
       "      <td>0.000000</td>\n",
       "      <td>0.000131</td>\n",
       "      <td>1</td>\n",
       "      <td>DoS</td>\n",
       "      <td>HTTP</td>\n",
       "    </tr>\n",
       "    <tr>\n",
       "      <th>2</th>\n",
       "      <td>2</td>\n",
       "      <td>3</td>\n",
       "      <td>tcp</td>\n",
       "      <td>192.168.100.147</td>\n",
       "      <td>49962</td>\n",
       "      <td>192.168.100.7</td>\n",
       "      <td>80</td>\n",
       "      <td>11</td>\n",
       "      <td>0.064494</td>\n",
       "      <td>75</td>\n",
       "      <td>0.000000</td>\n",
       "      <td>1</td>\n",
       "      <td>0.064494</td>\n",
       "      <td>96</td>\n",
       "      <td>15.505319</td>\n",
       "      <td>0.567549</td>\n",
       "      <td>0.128988</td>\n",
       "      <td>1</td>\n",
       "      <td>DoS</td>\n",
       "      <td>HTTP</td>\n",
       "    </tr>\n",
       "    <tr>\n",
       "      <th>3</th>\n",
       "      <td>3</td>\n",
       "      <td>4</td>\n",
       "      <td>tcp</td>\n",
       "      <td>192.168.100.147</td>\n",
       "      <td>49964</td>\n",
       "      <td>192.168.100.7</td>\n",
       "      <td>80</td>\n",
       "      <td>12</td>\n",
       "      <td>0.064189</td>\n",
       "      <td>75</td>\n",
       "      <td>0.000000</td>\n",
       "      <td>1</td>\n",
       "      <td>0.064189</td>\n",
       "      <td>96</td>\n",
       "      <td>15.578993</td>\n",
       "      <td>0.567570</td>\n",
       "      <td>0.128378</td>\n",
       "      <td>1</td>\n",
       "      <td>DoS</td>\n",
       "      <td>HTTP</td>\n",
       "    </tr>\n",
       "    <tr>\n",
       "      <th>4</th>\n",
       "      <td>4</td>\n",
       "      <td>5</td>\n",
       "      <td>tcp</td>\n",
       "      <td>192.168.100.147</td>\n",
       "      <td>49966</td>\n",
       "      <td>192.168.100.7</td>\n",
       "      <td>80</td>\n",
       "      <td>13</td>\n",
       "      <td>0.063887</td>\n",
       "      <td>75</td>\n",
       "      <td>0.000000</td>\n",
       "      <td>1</td>\n",
       "      <td>0.063887</td>\n",
       "      <td>96</td>\n",
       "      <td>15.652637</td>\n",
       "      <td>0.567630</td>\n",
       "      <td>0.127774</td>\n",
       "      <td>1</td>\n",
       "      <td>DoS</td>\n",
       "      <td>HTTP</td>\n",
       "    </tr>\n",
       "  </tbody>\n",
       "</table>\n",
       "</div>"
      ],
      "text/plain": [
       "   Unnamed: 0  pkSeqID proto            saddr  sport            daddr dport  \\\n",
       "0           0        1   tcp  192.168.100.147  49960    192.168.100.7    80   \n",
       "1           1        2   arp    192.168.100.7     -1  192.168.100.147    -1   \n",
       "2           2        3   tcp  192.168.100.147  49962    192.168.100.7    80   \n",
       "3           3        4   tcp  192.168.100.147  49964    192.168.100.7    80   \n",
       "4           4        5   tcp  192.168.100.147  49966    192.168.100.7    80   \n",
       "\n",
       "   seq    stddev  N_IN_Conn_P_SrcIP       min  state_number      mean  \\\n",
       "0    9  0.068909                 75  0.000000             1  0.068909   \n",
       "1   10  0.000000                  2  0.000131             2  0.000131   \n",
       "2   11  0.064494                 75  0.000000             1  0.064494   \n",
       "3   12  0.064189                 75  0.000000             1  0.064189   \n",
       "4   13  0.063887                 75  0.000000             1  0.063887   \n",
       "\n",
       "   N_IN_Conn_P_DstIP      drate     srate       max  attack category  \\\n",
       "0                 96  14.511893  0.566862  0.137818       1      DoS   \n",
       "1                  1   0.000000  0.000000  0.000131       1      DoS   \n",
       "2                 96  15.505319  0.567549  0.128988       1      DoS   \n",
       "3                 96  15.578993  0.567570  0.128378       1      DoS   \n",
       "4                 96  15.652637  0.567630  0.127774       1      DoS   \n",
       "\n",
       "  subcategory  \n",
       "0        HTTP  \n",
       "1        HTTP  \n",
       "2        HTTP  \n",
       "3        HTTP  \n",
       "4        HTTP  "
      ]
     },
     "execution_count": 4,
     "metadata": {},
     "output_type": "execute_result"
    }
   ],
   "source": [
    "bot_df.head()"
   ]
  },
  {
   "cell_type": "code",
   "execution_count": 5,
   "id": "5ad74174",
   "metadata": {},
   "outputs": [
    {
     "data": {
      "text/html": [
       "<div>\n",
       "<style scoped>\n",
       "    .dataframe tbody tr th:only-of-type {\n",
       "        vertical-align: middle;\n",
       "    }\n",
       "\n",
       "    .dataframe tbody tr th {\n",
       "        vertical-align: top;\n",
       "    }\n",
       "\n",
       "    .dataframe thead th {\n",
       "        text-align: right;\n",
       "    }\n",
       "</style>\n",
       "<table border=\"1\" class=\"dataframe\">\n",
       "  <thead>\n",
       "    <tr style=\"text-align: right;\">\n",
       "      <th></th>\n",
       "      <th>pkSeqID</th>\n",
       "      <th>proto</th>\n",
       "      <th>saddr</th>\n",
       "      <th>sport</th>\n",
       "      <th>daddr</th>\n",
       "      <th>dport</th>\n",
       "      <th>seq</th>\n",
       "      <th>stddev</th>\n",
       "      <th>N_IN_Conn_P_SrcIP</th>\n",
       "      <th>min</th>\n",
       "      <th>state_number</th>\n",
       "      <th>mean</th>\n",
       "      <th>N_IN_Conn_P_DstIP</th>\n",
       "      <th>drate</th>\n",
       "      <th>srate</th>\n",
       "      <th>max</th>\n",
       "      <th>attack</th>\n",
       "      <th>category</th>\n",
       "      <th>subcategory</th>\n",
       "    </tr>\n",
       "  </thead>\n",
       "  <tbody>\n",
       "    <tr>\n",
       "      <th>0</th>\n",
       "      <td>1</td>\n",
       "      <td>tcp</td>\n",
       "      <td>192.168.100.147</td>\n",
       "      <td>49960</td>\n",
       "      <td>192.168.100.7</td>\n",
       "      <td>80</td>\n",
       "      <td>9</td>\n",
       "      <td>0.068909</td>\n",
       "      <td>75</td>\n",
       "      <td>0.000000</td>\n",
       "      <td>1</td>\n",
       "      <td>0.068909</td>\n",
       "      <td>96</td>\n",
       "      <td>14.511893</td>\n",
       "      <td>0.566862</td>\n",
       "      <td>0.137818</td>\n",
       "      <td>1</td>\n",
       "      <td>DoS</td>\n",
       "      <td>HTTP</td>\n",
       "    </tr>\n",
       "    <tr>\n",
       "      <th>1</th>\n",
       "      <td>2</td>\n",
       "      <td>arp</td>\n",
       "      <td>192.168.100.7</td>\n",
       "      <td>-1</td>\n",
       "      <td>192.168.100.147</td>\n",
       "      <td>-1</td>\n",
       "      <td>10</td>\n",
       "      <td>0.000000</td>\n",
       "      <td>2</td>\n",
       "      <td>0.000131</td>\n",
       "      <td>2</td>\n",
       "      <td>0.000131</td>\n",
       "      <td>1</td>\n",
       "      <td>0.000000</td>\n",
       "      <td>0.000000</td>\n",
       "      <td>0.000131</td>\n",
       "      <td>1</td>\n",
       "      <td>DoS</td>\n",
       "      <td>HTTP</td>\n",
       "    </tr>\n",
       "    <tr>\n",
       "      <th>2</th>\n",
       "      <td>3</td>\n",
       "      <td>tcp</td>\n",
       "      <td>192.168.100.147</td>\n",
       "      <td>49962</td>\n",
       "      <td>192.168.100.7</td>\n",
       "      <td>80</td>\n",
       "      <td>11</td>\n",
       "      <td>0.064494</td>\n",
       "      <td>75</td>\n",
       "      <td>0.000000</td>\n",
       "      <td>1</td>\n",
       "      <td>0.064494</td>\n",
       "      <td>96</td>\n",
       "      <td>15.505319</td>\n",
       "      <td>0.567549</td>\n",
       "      <td>0.128988</td>\n",
       "      <td>1</td>\n",
       "      <td>DoS</td>\n",
       "      <td>HTTP</td>\n",
       "    </tr>\n",
       "    <tr>\n",
       "      <th>3</th>\n",
       "      <td>4</td>\n",
       "      <td>tcp</td>\n",
       "      <td>192.168.100.147</td>\n",
       "      <td>49964</td>\n",
       "      <td>192.168.100.7</td>\n",
       "      <td>80</td>\n",
       "      <td>12</td>\n",
       "      <td>0.064189</td>\n",
       "      <td>75</td>\n",
       "      <td>0.000000</td>\n",
       "      <td>1</td>\n",
       "      <td>0.064189</td>\n",
       "      <td>96</td>\n",
       "      <td>15.578993</td>\n",
       "      <td>0.567570</td>\n",
       "      <td>0.128378</td>\n",
       "      <td>1</td>\n",
       "      <td>DoS</td>\n",
       "      <td>HTTP</td>\n",
       "    </tr>\n",
       "    <tr>\n",
       "      <th>4</th>\n",
       "      <td>5</td>\n",
       "      <td>tcp</td>\n",
       "      <td>192.168.100.147</td>\n",
       "      <td>49966</td>\n",
       "      <td>192.168.100.7</td>\n",
       "      <td>80</td>\n",
       "      <td>13</td>\n",
       "      <td>0.063887</td>\n",
       "      <td>75</td>\n",
       "      <td>0.000000</td>\n",
       "      <td>1</td>\n",
       "      <td>0.063887</td>\n",
       "      <td>96</td>\n",
       "      <td>15.652637</td>\n",
       "      <td>0.567630</td>\n",
       "      <td>0.127774</td>\n",
       "      <td>1</td>\n",
       "      <td>DoS</td>\n",
       "      <td>HTTP</td>\n",
       "    </tr>\n",
       "  </tbody>\n",
       "</table>\n",
       "</div>"
      ],
      "text/plain": [
       "   pkSeqID proto            saddr  sport            daddr dport  seq  \\\n",
       "0        1   tcp  192.168.100.147  49960    192.168.100.7    80    9   \n",
       "1        2   arp    192.168.100.7     -1  192.168.100.147    -1   10   \n",
       "2        3   tcp  192.168.100.147  49962    192.168.100.7    80   11   \n",
       "3        4   tcp  192.168.100.147  49964    192.168.100.7    80   12   \n",
       "4        5   tcp  192.168.100.147  49966    192.168.100.7    80   13   \n",
       "\n",
       "     stddev  N_IN_Conn_P_SrcIP       min  state_number      mean  \\\n",
       "0  0.068909                 75  0.000000             1  0.068909   \n",
       "1  0.000000                  2  0.000131             2  0.000131   \n",
       "2  0.064494                 75  0.000000             1  0.064494   \n",
       "3  0.064189                 75  0.000000             1  0.064189   \n",
       "4  0.063887                 75  0.000000             1  0.063887   \n",
       "\n",
       "   N_IN_Conn_P_DstIP      drate     srate       max  attack category  \\\n",
       "0                 96  14.511893  0.566862  0.137818       1      DoS   \n",
       "1                  1   0.000000  0.000000  0.000131       1      DoS   \n",
       "2                 96  15.505319  0.567549  0.128988       1      DoS   \n",
       "3                 96  15.578993  0.567570  0.128378       1      DoS   \n",
       "4                 96  15.652637  0.567630  0.127774       1      DoS   \n",
       "\n",
       "  subcategory  \n",
       "0        HTTP  \n",
       "1        HTTP  \n",
       "2        HTTP  \n",
       "3        HTTP  \n",
       "4        HTTP  "
      ]
     },
     "execution_count": 5,
     "metadata": {},
     "output_type": "execute_result"
    }
   ],
   "source": [
    "del bot_df['Unnamed: 0']  \n",
    "bot_df.head() "
   ]
  },
  {
   "cell_type": "code",
   "execution_count": 6,
   "id": "5d9d1352",
   "metadata": {},
   "outputs": [
    {
     "name": "stdout",
     "output_type": "stream",
     "text": [
      "<class 'pandas.core.frame.DataFrame'>\n",
      "RangeIndex: 3668522 entries, 0 to 3668521\n",
      "Data columns (total 19 columns):\n",
      " #   Column             Dtype  \n",
      "---  ------             -----  \n",
      " 0   pkSeqID            int64  \n",
      " 1   proto              object \n",
      " 2   saddr              object \n",
      " 3   sport              object \n",
      " 4   daddr              object \n",
      " 5   dport              object \n",
      " 6   seq                int64  \n",
      " 7   stddev             float64\n",
      " 8   N_IN_Conn_P_SrcIP  int64  \n",
      " 9   min                float64\n",
      " 10  state_number       int64  \n",
      " 11  mean               float64\n",
      " 12  N_IN_Conn_P_DstIP  int64  \n",
      " 13  drate              float64\n",
      " 14  srate              float64\n",
      " 15  max                float64\n",
      " 16  attack             int64  \n",
      " 17  category           object \n",
      " 18  subcategory        object \n",
      "dtypes: float64(6), int64(6), object(7)\n",
      "memory usage: 531.8+ MB\n"
     ]
    }
   ],
   "source": [
    "bot_df.info()"
   ]
  },
  {
   "cell_type": "code",
   "execution_count": 7,
   "id": "2facd949",
   "metadata": {},
   "outputs": [
    {
     "data": {
      "text/html": [
       "<div>\n",
       "<style scoped>\n",
       "    .dataframe tbody tr th:only-of-type {\n",
       "        vertical-align: middle;\n",
       "    }\n",
       "\n",
       "    .dataframe tbody tr th {\n",
       "        vertical-align: top;\n",
       "    }\n",
       "\n",
       "    .dataframe thead th {\n",
       "        text-align: right;\n",
       "    }\n",
       "</style>\n",
       "<table border=\"1\" class=\"dataframe\">\n",
       "  <thead>\n",
       "    <tr style=\"text-align: right;\">\n",
       "      <th></th>\n",
       "      <th>pkSeqID</th>\n",
       "      <th>seq</th>\n",
       "      <th>stddev</th>\n",
       "      <th>N_IN_Conn_P_SrcIP</th>\n",
       "      <th>min</th>\n",
       "      <th>state_number</th>\n",
       "      <th>mean</th>\n",
       "      <th>N_IN_Conn_P_DstIP</th>\n",
       "      <th>drate</th>\n",
       "      <th>srate</th>\n",
       "      <th>max</th>\n",
       "      <th>attack</th>\n",
       "    </tr>\n",
       "  </thead>\n",
       "  <tbody>\n",
       "    <tr>\n",
       "      <th>count</th>\n",
       "      <td>3.668522e+06</td>\n",
       "      <td>3.668522e+06</td>\n",
       "      <td>3.668522e+06</td>\n",
       "      <td>3.668522e+06</td>\n",
       "      <td>3.668522e+06</td>\n",
       "      <td>3.668522e+06</td>\n",
       "      <td>3.668522e+06</td>\n",
       "      <td>3.668522e+06</td>\n",
       "      <td>3.668522e+06</td>\n",
       "      <td>3.668522e+06</td>\n",
       "      <td>3.668522e+06</td>\n",
       "      <td>3.668522e+06</td>\n",
       "    </tr>\n",
       "    <tr>\n",
       "      <th>mean</th>\n",
       "      <td>1.834262e+06</td>\n",
       "      <td>1.213204e+05</td>\n",
       "      <td>8.871499e-01</td>\n",
       "      <td>8.253848e+01</td>\n",
       "      <td>1.017540e+00</td>\n",
       "      <td>3.134390e+00</td>\n",
       "      <td>2.231063e+00</td>\n",
       "      <td>9.245168e+01</td>\n",
       "      <td>4.455046e-01</td>\n",
       "      <td>2.955111e+00</td>\n",
       "      <td>3.020015e+00</td>\n",
       "      <td>9.998700e-01</td>\n",
       "    </tr>\n",
       "    <tr>\n",
       "      <th>std</th>\n",
       "      <td>1.059011e+06</td>\n",
       "      <td>7.579428e+04</td>\n",
       "      <td>8.037139e-01</td>\n",
       "      <td>2.439739e+01</td>\n",
       "      <td>1.483688e+00</td>\n",
       "      <td>1.186971e+00</td>\n",
       "      <td>1.517728e+00</td>\n",
       "      <td>1.817643e+01</td>\n",
       "      <td>6.028863e+01</td>\n",
       "      <td>7.245425e+02</td>\n",
       "      <td>1.860877e+00</td>\n",
       "      <td>1.140212e-02</td>\n",
       "    </tr>\n",
       "    <tr>\n",
       "      <th>min</th>\n",
       "      <td>1.000000e+00</td>\n",
       "      <td>1.000000e+00</td>\n",
       "      <td>0.000000e+00</td>\n",
       "      <td>1.000000e+00</td>\n",
       "      <td>0.000000e+00</td>\n",
       "      <td>1.000000e+00</td>\n",
       "      <td>0.000000e+00</td>\n",
       "      <td>1.000000e+00</td>\n",
       "      <td>0.000000e+00</td>\n",
       "      <td>0.000000e+00</td>\n",
       "      <td>0.000000e+00</td>\n",
       "      <td>0.000000e+00</td>\n",
       "    </tr>\n",
       "    <tr>\n",
       "      <th>25%</th>\n",
       "      <td>9.171312e+05</td>\n",
       "      <td>5.487600e+04</td>\n",
       "      <td>3.001900e-02</td>\n",
       "      <td>6.900000e+01</td>\n",
       "      <td>0.000000e+00</td>\n",
       "      <td>3.000000e+00</td>\n",
       "      <td>1.819670e-01</td>\n",
       "      <td>1.000000e+02</td>\n",
       "      <td>0.000000e+00</td>\n",
       "      <td>1.559700e-01</td>\n",
       "      <td>2.806072e-01</td>\n",
       "      <td>1.000000e+00</td>\n",
       "    </tr>\n",
       "    <tr>\n",
       "      <th>50%</th>\n",
       "      <td>1.834262e+06</td>\n",
       "      <td>1.177690e+05</td>\n",
       "      <td>7.938960e-01</td>\n",
       "      <td>1.000000e+02</td>\n",
       "      <td>0.000000e+00</td>\n",
       "      <td>4.000000e+00</td>\n",
       "      <td>2.690125e+00</td>\n",
       "      <td>1.000000e+02</td>\n",
       "      <td>0.000000e+00</td>\n",
       "      <td>2.837830e-01</td>\n",
       "      <td>4.009111e+00</td>\n",
       "      <td>1.000000e+00</td>\n",
       "    </tr>\n",
       "    <tr>\n",
       "      <th>75%</th>\n",
       "      <td>2.751392e+06</td>\n",
       "      <td>1.849300e+05</td>\n",
       "      <td>1.745296e+00</td>\n",
       "      <td>1.000000e+02</td>\n",
       "      <td>2.151138e+00</td>\n",
       "      <td>4.000000e+00</td>\n",
       "      <td>3.565203e+00</td>\n",
       "      <td>1.000000e+02</td>\n",
       "      <td>0.000000e+00</td>\n",
       "      <td>4.882010e-01</td>\n",
       "      <td>4.293582e+00</td>\n",
       "      <td>1.000000e+00</td>\n",
       "    </tr>\n",
       "    <tr>\n",
       "      <th>max</th>\n",
       "      <td>3.668522e+06</td>\n",
       "      <td>2.622120e+05</td>\n",
       "      <td>2.496763e+00</td>\n",
       "      <td>1.000000e+02</td>\n",
       "      <td>4.980471e+00</td>\n",
       "      <td>1.100000e+01</td>\n",
       "      <td>4.981882e+00</td>\n",
       "      <td>1.000000e+02</td>\n",
       "      <td>5.882353e+04</td>\n",
       "      <td>1.000000e+06</td>\n",
       "      <td>4.999999e+00</td>\n",
       "      <td>1.000000e+00</td>\n",
       "    </tr>\n",
       "  </tbody>\n",
       "</table>\n",
       "</div>"
      ],
      "text/plain": [
       "            pkSeqID           seq        stddev  N_IN_Conn_P_SrcIP  \\\n",
       "count  3.668522e+06  3.668522e+06  3.668522e+06       3.668522e+06   \n",
       "mean   1.834262e+06  1.213204e+05  8.871499e-01       8.253848e+01   \n",
       "std    1.059011e+06  7.579428e+04  8.037139e-01       2.439739e+01   \n",
       "min    1.000000e+00  1.000000e+00  0.000000e+00       1.000000e+00   \n",
       "25%    9.171312e+05  5.487600e+04  3.001900e-02       6.900000e+01   \n",
       "50%    1.834262e+06  1.177690e+05  7.938960e-01       1.000000e+02   \n",
       "75%    2.751392e+06  1.849300e+05  1.745296e+00       1.000000e+02   \n",
       "max    3.668522e+06  2.622120e+05  2.496763e+00       1.000000e+02   \n",
       "\n",
       "                min  state_number          mean  N_IN_Conn_P_DstIP  \\\n",
       "count  3.668522e+06  3.668522e+06  3.668522e+06       3.668522e+06   \n",
       "mean   1.017540e+00  3.134390e+00  2.231063e+00       9.245168e+01   \n",
       "std    1.483688e+00  1.186971e+00  1.517728e+00       1.817643e+01   \n",
       "min    0.000000e+00  1.000000e+00  0.000000e+00       1.000000e+00   \n",
       "25%    0.000000e+00  3.000000e+00  1.819670e-01       1.000000e+02   \n",
       "50%    0.000000e+00  4.000000e+00  2.690125e+00       1.000000e+02   \n",
       "75%    2.151138e+00  4.000000e+00  3.565203e+00       1.000000e+02   \n",
       "max    4.980471e+00  1.100000e+01  4.981882e+00       1.000000e+02   \n",
       "\n",
       "              drate         srate           max        attack  \n",
       "count  3.668522e+06  3.668522e+06  3.668522e+06  3.668522e+06  \n",
       "mean   4.455046e-01  2.955111e+00  3.020015e+00  9.998700e-01  \n",
       "std    6.028863e+01  7.245425e+02  1.860877e+00  1.140212e-02  \n",
       "min    0.000000e+00  0.000000e+00  0.000000e+00  0.000000e+00  \n",
       "25%    0.000000e+00  1.559700e-01  2.806072e-01  1.000000e+00  \n",
       "50%    0.000000e+00  2.837830e-01  4.009111e+00  1.000000e+00  \n",
       "75%    0.000000e+00  4.882010e-01  4.293582e+00  1.000000e+00  \n",
       "max    5.882353e+04  1.000000e+06  4.999999e+00  1.000000e+00  "
      ]
     },
     "execution_count": 7,
     "metadata": {},
     "output_type": "execute_result"
    }
   ],
   "source": [
    "bot_df.describe()"
   ]
  },
  {
   "cell_type": "code",
   "execution_count": 8,
   "id": "1b6bbd53",
   "metadata": {},
   "outputs": [
    {
     "data": {
      "text/plain": [
       "DDoS              1926624\n",
       "DoS               1650260\n",
       "Reconnaissance      91082\n",
       "Normal                477\n",
       "Theft                  79\n",
       "Name: category, dtype: int64"
      ]
     },
     "execution_count": 8,
     "metadata": {},
     "output_type": "execute_result"
    }
   ],
   "source": [
    "bot_df['category'].value_counts()"
   ]
  },
  {
   "cell_type": "code",
   "execution_count": 9,
   "id": "3defc7e3",
   "metadata": {},
   "outputs": [
    {
     "data": {
      "text/html": [
       "<div>\n",
       "<style scoped>\n",
       "    .dataframe tbody tr th:only-of-type {\n",
       "        vertical-align: middle;\n",
       "    }\n",
       "\n",
       "    .dataframe tbody tr th {\n",
       "        vertical-align: top;\n",
       "    }\n",
       "\n",
       "    .dataframe thead th {\n",
       "        text-align: right;\n",
       "    }\n",
       "</style>\n",
       "<table border=\"1\" class=\"dataframe\">\n",
       "  <thead>\n",
       "    <tr style=\"text-align: right;\">\n",
       "      <th>proto</th>\n",
       "      <th>arp</th>\n",
       "      <th>icmp</th>\n",
       "      <th>ipv6-icmp</th>\n",
       "      <th>tcp</th>\n",
       "      <th>udp</th>\n",
       "    </tr>\n",
       "    <tr>\n",
       "      <th>category</th>\n",
       "      <th></th>\n",
       "      <th></th>\n",
       "      <th></th>\n",
       "      <th></th>\n",
       "      <th></th>\n",
       "    </tr>\n",
       "  </thead>\n",
       "  <tbody>\n",
       "    <tr>\n",
       "      <th>DDoS</th>\n",
       "      <td>35</td>\n",
       "      <td>16</td>\n",
       "      <td>0</td>\n",
       "      <td>978350</td>\n",
       "      <td>948223</td>\n",
       "    </tr>\n",
       "    <tr>\n",
       "      <th>DoS</th>\n",
       "      <td>49</td>\n",
       "      <td>14</td>\n",
       "      <td>0</td>\n",
       "      <td>617260</td>\n",
       "      <td>1032937</td>\n",
       "    </tr>\n",
       "    <tr>\n",
       "      <th>Normal</th>\n",
       "      <td>47</td>\n",
       "      <td>0</td>\n",
       "      <td>8</td>\n",
       "      <td>47</td>\n",
       "      <td>375</td>\n",
       "    </tr>\n",
       "    <tr>\n",
       "      <th>Reconnaissance</th>\n",
       "      <td>78</td>\n",
       "      <td>9022</td>\n",
       "      <td>0</td>\n",
       "      <td>67080</td>\n",
       "      <td>14902</td>\n",
       "    </tr>\n",
       "    <tr>\n",
       "      <th>Theft</th>\n",
       "      <td>4</td>\n",
       "      <td>0</td>\n",
       "      <td>0</td>\n",
       "      <td>75</td>\n",
       "      <td>0</td>\n",
       "    </tr>\n",
       "  </tbody>\n",
       "</table>\n",
       "</div>"
      ],
      "text/plain": [
       "proto           arp  icmp  ipv6-icmp     tcp      udp\n",
       "category                                             \n",
       "DDoS             35    16          0  978350   948223\n",
       "DoS              49    14          0  617260  1032937\n",
       "Normal           47     0          8      47      375\n",
       "Reconnaissance   78  9022          0   67080    14902\n",
       "Theft             4     0          0      75        0"
      ]
     },
     "execution_count": 9,
     "metadata": {},
     "output_type": "execute_result"
    }
   ],
   "source": [
    "attack_vs_protocol = pd.crosstab(bot_df.category, bot_df.proto)\n",
    "attack_vs_protocol"
   ]
  },
  {
   "cell_type": "code",
   "execution_count": 10,
   "id": "aaa3bfab",
   "metadata": {},
   "outputs": [
    {
     "data": {
      "text/html": [
       "<div>\n",
       "<style scoped>\n",
       "    .dataframe tbody tr th:only-of-type {\n",
       "        vertical-align: middle;\n",
       "    }\n",
       "\n",
       "    .dataframe tbody tr th {\n",
       "        vertical-align: top;\n",
       "    }\n",
       "\n",
       "    .dataframe thead th {\n",
       "        text-align: right;\n",
       "    }\n",
       "</style>\n",
       "<table border=\"1\" class=\"dataframe\">\n",
       "  <thead>\n",
       "    <tr style=\"text-align: right;\">\n",
       "      <th></th>\n",
       "      <th>seq</th>\n",
       "      <th>stddev</th>\n",
       "      <th>N_IN_Conn_P_SrcIP</th>\n",
       "      <th>min</th>\n",
       "      <th>state_number</th>\n",
       "      <th>mean</th>\n",
       "      <th>N_IN_Conn_P_DstIP</th>\n",
       "      <th>drate</th>\n",
       "      <th>srate</th>\n",
       "      <th>max</th>\n",
       "      <th>attack</th>\n",
       "    </tr>\n",
       "  </thead>\n",
       "  <tbody>\n",
       "    <tr>\n",
       "      <th>0</th>\n",
       "      <td>9</td>\n",
       "      <td>0.068909</td>\n",
       "      <td>75</td>\n",
       "      <td>0.000000</td>\n",
       "      <td>1</td>\n",
       "      <td>0.068909</td>\n",
       "      <td>96</td>\n",
       "      <td>14.511893</td>\n",
       "      <td>0.566862</td>\n",
       "      <td>0.137818</td>\n",
       "      <td>1</td>\n",
       "    </tr>\n",
       "    <tr>\n",
       "      <th>1</th>\n",
       "      <td>10</td>\n",
       "      <td>0.000000</td>\n",
       "      <td>2</td>\n",
       "      <td>0.000131</td>\n",
       "      <td>2</td>\n",
       "      <td>0.000131</td>\n",
       "      <td>1</td>\n",
       "      <td>0.000000</td>\n",
       "      <td>0.000000</td>\n",
       "      <td>0.000131</td>\n",
       "      <td>1</td>\n",
       "    </tr>\n",
       "    <tr>\n",
       "      <th>2</th>\n",
       "      <td>11</td>\n",
       "      <td>0.064494</td>\n",
       "      <td>75</td>\n",
       "      <td>0.000000</td>\n",
       "      <td>1</td>\n",
       "      <td>0.064494</td>\n",
       "      <td>96</td>\n",
       "      <td>15.505319</td>\n",
       "      <td>0.567549</td>\n",
       "      <td>0.128988</td>\n",
       "      <td>1</td>\n",
       "    </tr>\n",
       "    <tr>\n",
       "      <th>3</th>\n",
       "      <td>12</td>\n",
       "      <td>0.064189</td>\n",
       "      <td>75</td>\n",
       "      <td>0.000000</td>\n",
       "      <td>1</td>\n",
       "      <td>0.064189</td>\n",
       "      <td>96</td>\n",
       "      <td>15.578993</td>\n",
       "      <td>0.567570</td>\n",
       "      <td>0.128378</td>\n",
       "      <td>1</td>\n",
       "    </tr>\n",
       "    <tr>\n",
       "      <th>4</th>\n",
       "      <td>13</td>\n",
       "      <td>0.063887</td>\n",
       "      <td>75</td>\n",
       "      <td>0.000000</td>\n",
       "      <td>1</td>\n",
       "      <td>0.063887</td>\n",
       "      <td>96</td>\n",
       "      <td>15.652637</td>\n",
       "      <td>0.567630</td>\n",
       "      <td>0.127774</td>\n",
       "      <td>1</td>\n",
       "    </tr>\n",
       "  </tbody>\n",
       "</table>\n",
       "</div>"
      ],
      "text/plain": [
       "   seq    stddev  N_IN_Conn_P_SrcIP       min  state_number      mean  \\\n",
       "0    9  0.068909                 75  0.000000             1  0.068909   \n",
       "1   10  0.000000                  2  0.000131             2  0.000131   \n",
       "2   11  0.064494                 75  0.000000             1  0.064494   \n",
       "3   12  0.064189                 75  0.000000             1  0.064189   \n",
       "4   13  0.063887                 75  0.000000             1  0.063887   \n",
       "\n",
       "   N_IN_Conn_P_DstIP      drate     srate       max  attack  \n",
       "0                 96  14.511893  0.566862  0.137818       1  \n",
       "1                  1   0.000000  0.000000  0.000131       1  \n",
       "2                 96  15.505319  0.567549  0.128988       1  \n",
       "3                 96  15.578993  0.567570  0.128378       1  \n",
       "4                 96  15.652637  0.567630  0.127774       1  "
      ]
     },
     "execution_count": 10,
     "metadata": {},
     "output_type": "execute_result"
    }
   ],
   "source": [
    "#getting the 10-best features\n",
    "bot_df.drop(['pkSeqID', 'proto','saddr','sport','daddr','dport','category','subcategory'], axis=1, inplace=True)  \n",
    "\n",
    "bot_df.head()"
   ]
  },
  {
   "cell_type": "code",
   "execution_count": 11,
   "id": "6eab17c5",
   "metadata": {},
   "outputs": [
    {
     "data": {
      "text/plain": [
       "(3668522, 11)"
      ]
     },
     "execution_count": 11,
     "metadata": {},
     "output_type": "execute_result"
    }
   ],
   "source": [
    "bot_df.shape"
   ]
  },
  {
   "cell_type": "code",
   "execution_count": 12,
   "id": "d7a10581",
   "metadata": {},
   "outputs": [
    {
     "data": {
      "text/plain": [
       "seq                  0\n",
       "stddev               0\n",
       "N_IN_Conn_P_SrcIP    0\n",
       "min                  0\n",
       "state_number         0\n",
       "mean                 0\n",
       "N_IN_Conn_P_DstIP    0\n",
       "drate                0\n",
       "srate                0\n",
       "max                  0\n",
       "attack               0\n",
       "dtype: int64"
      ]
     },
     "execution_count": 12,
     "metadata": {},
     "output_type": "execute_result"
    }
   ],
   "source": [
    "bot_df.isnull().sum()"
   ]
  },
  {
   "cell_type": "markdown",
   "id": "57c4d1eb",
   "metadata": {},
   "source": [
    "There are no missing values"
   ]
  },
  {
   "cell_type": "code",
   "execution_count": 13,
   "id": "211dc869",
   "metadata": {},
   "outputs": [
    {
     "data": {
      "text/plain": [
       "1    3668045\n",
       "0        477\n",
       "Name: attack, dtype: int64"
      ]
     },
     "execution_count": 13,
     "metadata": {},
     "output_type": "execute_result"
    }
   ],
   "source": [
    "bot_df['attack'].value_counts()"
   ]
  },
  {
   "cell_type": "code",
   "execution_count": 13,
   "id": "162fd079",
   "metadata": {},
   "outputs": [
    {
     "data": {
      "text/plain": [
       "<AxesSubplot:xlabel='attack', ylabel='count'>"
      ]
     },
     "execution_count": 13,
     "metadata": {},
     "output_type": "execute_result"
    },
    {
     "data": {
      "image/png": "[encoded data removed]",
      "text/plain": [
       "<Figure size 640x480 with 1 Axes>"
      ]
     },
     "metadata": {},
     "output_type": "display_data"
    }
   ],
   "source": [
    "sns.countplot(x='attack', data=bot_df, palette='Set2')"
   ]
  },
  {
   "cell_type": "markdown",
   "id": "5719e10d",
   "metadata": {},
   "source": [
    "The dataset is largely imbalanced. Hence, we balanced the whole dataset."
   ]
  },
  {
   "cell_type": "code",
   "execution_count": 14,
   "id": "2bc22743",
   "metadata": {},
   "outputs": [
    {
     "name": "stdout",
     "output_type": "stream",
     "text": [
      "Train Shape:  (6969285, 10)\n",
      "Test Shape:  (366805, 10)\n"
     ]
    }
   ],
   "source": [
    "# Create our Dataset with the independent variables and the dependent variable.\n",
    "\n",
    "X = bot_df.drop(['attack'],axis=1)\n",
    "Y = bot_df['attack']\n",
    "\n",
    "# Over-sampling of Test data\n",
    "balance =  SMOTE(random_state=42)\n",
    "\n",
    "#fitting\n",
    "X, Y = balance.fit_resample(X,Y)\n",
    "\n",
    "# Create a classic train-test split \n",
    "X_train, X_test, Y_train, Y_test = train_test_split(X, Y, test_size=0.05, random_state=101)\n",
    "\n",
    "print(\"Train Shape: \",X_train.shape)\n",
    "print(\"Test Shape: \",X_test.shape)"
   ]
  },
  {
   "cell_type": "code",
   "execution_count": 15,
   "id": "3e7ca07e",
   "metadata": {},
   "outputs": [
    {
     "data": {
      "text/plain": [
       "1    183765\n",
       "0    183040\n",
       "Name: attack, dtype: int64"
      ]
     },
     "execution_count": 15,
     "metadata": {},
     "output_type": "execute_result"
    }
   ],
   "source": [
    "Y_test.value_counts()"
   ]
  },
  {
   "cell_type": "code",
   "execution_count": 16,
   "id": "6f5f92be",
   "metadata": {},
   "outputs": [
    {
     "data": {
      "text/plain": [
       "0    3485005\n",
       "1    3484280\n",
       "Name: attack, dtype: int64"
      ]
     },
     "execution_count": 16,
     "metadata": {},
     "output_type": "execute_result"
    }
   ],
   "source": [
    "# Scaling\n",
    "scaler = MinMaxScaler()\n",
    "sX_train = scaler.fit_transform(X_train)\n",
    "sX_test = scaler.transform(X_test)\n",
    "Y_train.value_counts()"
   ]
  },
  {
   "cell_type": "markdown",
   "id": "a03fdba0",
   "metadata": {},
   "source": [
    "Logistic Regression"
   ]
  },
  {
   "cell_type": "code",
   "execution_count": 23,
   "id": "b03f6610",
   "metadata": {},
   "outputs": [
    {
     "name": "stdout",
     "output_type": "stream",
     "text": [
      "Overall Accuracy: 99.73%\n",
      "--------------------------\n",
      "              precision    recall  f1-score   support\n",
      "\n",
      "           0       0.99      1.00      1.00    183040\n",
      "           1       1.00      0.99      1.00    183765\n",
      "\n",
      "    accuracy                           1.00    366805\n",
      "   macro avg       1.00      1.00      1.00    366805\n",
      "weighted avg       1.00      1.00      1.00    366805\n",
      "\n"
     ]
    },
    {
     "data": {
      "image/png": "[encoded data removed]",
      "text/plain": [
       "<Figure size 800x500 with 2 Axes>"
      ]
     },
     "metadata": {},
     "output_type": "display_data"
    }
   ],
   "source": [
    "# defining the model \n",
    "modelLG = LogisticRegression(penalty='l1', C=0.1, solver='saga', max_iter=100)\n",
    "\n",
    "#Fitting\n",
    " \n",
    "modelLG.fit(sX_train,Y_train)\n",
    "\n",
    "# making predictions for the testing dataset\n",
    "\n",
    "y_pred = modelLG.predict(sX_test)\n",
    "\n",
    "report_heatmap(y_pred,Y_test)"
   ]
  },
  {
   "cell_type": "markdown",
   "id": "0774b609",
   "metadata": {},
   "source": [
    "Gaussian Naive Bayes"
   ]
  },
  {
   "cell_type": "code",
   "execution_count": 22,
   "id": "baad63c5",
   "metadata": {},
   "outputs": [
    {
     "name": "stdout",
     "output_type": "stream",
     "text": [
      "Overall Accuracy: 98.95%\n",
      "--------------------------\n",
      "              precision    recall  f1-score   support\n",
      "\n",
      "           0       0.99      0.98      0.99    183040\n",
      "           1       0.98      0.99      0.99    183765\n",
      "\n",
      "    accuracy                           0.99    366805\n",
      "   macro avg       0.99      0.99      0.99    366805\n",
      "weighted avg       0.99      0.99      0.99    366805\n",
      "\n"
     ]
    },
    {
     "data": {
      "image/png": "[encoded data removed]",
      "text/plain": [
       "<Figure size 800x500 with 2 Axes>"
      ]
     },
     "metadata": {},
     "output_type": "display_data"
    }
   ],
   "source": [
    "nb = GaussianNB()\n",
    "nb.fit(sX_train,Y_train)\n",
    "\n",
    "# Prediction\n",
    "y_pred=nb.predict(sX_test)\n",
    "\n",
    "# display report\n",
    "report_heatmap(y_pred,Y_test)"
   ]
  },
  {
   "cell_type": "markdown",
   "id": "9eb05923",
   "metadata": {},
   "source": [
    "PCA-> Logistic Regression"
   ]
  },
  {
   "cell_type": "code",
   "execution_count": 21,
   "id": "c6f8ad69",
   "metadata": {},
   "outputs": [
    {
     "name": "stdout",
     "output_type": "stream",
     "text": [
      "Overall Accuracy: 99.14%\n",
      "--------------------------\n",
      "              precision    recall  f1-score   support\n",
      "\n",
      "           0       0.98      1.00      0.99    183040\n",
      "           1       1.00      0.98      0.99    183765\n",
      "\n",
      "    accuracy                           0.99    366805\n",
      "   macro avg       0.99      0.99      0.99    366805\n",
      "weighted avg       0.99      0.99      0.99    366805\n",
      "\n"
     ]
    },
    {
     "data": {
      "image/png": "[encoded data removed]",
      "text/plain": [
       "<Figure size 800x500 with 2 Axes>"
      ]
     },
     "metadata": {},
     "output_type": "display_data"
    }
   ],
   "source": [
    "pca = PCA(n_components=3)  \n",
    "X_train_pca = pca.fit_transform(sX_train)  \n",
    "X_test_pca = pca.transform(sX_test)  \n",
    "\n",
    "# Apply Logistic Regression  \n",
    "LG=LogisticRegression(penalty='l1', C=0.1, solver='saga', max_iter=100)\n",
    "LG.fit(X_train_pca, Y_train)  \n",
    "\n",
    "# Predictions  \n",
    "y_pred=LG.predict(X_test_pca)\n",
    "\n",
    "# display report\n",
    "report_heatmap(y_pred,Y_test) "
   ]
  },
  {
   "cell_type": "code",
   "execution_count": 17,
   "id": "9f0799da",
   "metadata": {},
   "outputs": [
    {
     "name": "stdout",
     "output_type": "stream",
     "text": [
      "Model: \"sequential\"\n",
      "_________________________________________________________________\n",
      " Layer (type)                Output Shape              Param #   \n",
      "=================================================================\n",
      " dense (Dense)               (None, 10)                110       \n",
      "                                                                 \n",
      " dense_1 (Dense)             (None, 5)                 55        \n",
      "                                                                 \n",
      " dense_2 (Dense)             (None, 1)                 6         \n",
      "                                                                 \n",
      "=================================================================\n",
      "Total params: 171\n",
      "Trainable params: 171\n",
      "Non-trainable params: 0\n",
      "_________________________________________________________________\n",
      "Train on 6969285 samples\n",
      "Epoch 1/2\n",
      "6969285/6969285 [==============================] - 40s 6us/sample - loss: 0.0134 - accuracy: 0.9984\n",
      "Epoch 2/2\n",
      "6969285/6969285 [==============================] - 41s 6us/sample - loss: 0.0031 - accuracy: 0.9995\n"
     ]
    },
    {
     "data": {
      "text/plain": [
       "<keras.callbacks.History at 0x27fe94e1f10>"
      ]
     },
     "execution_count": 17,
     "metadata": {},
     "output_type": "execute_result"
    }
   ],
   "source": [
    "from tensorflow import keras\n",
    "from tensorflow.keras.models import Sequential\n",
    "from tensorflow.keras.layers import Dense, Dropout\n",
    "from tensorflow.keras.optimizers import Adam\n",
    "\n",
    "model = Sequential()\n",
    "model.add(Dense(10, activation='relu', input_shape=(sX_train.shape[1],)))\n",
    "\n",
    "model.add(Dense(5, activation='relu'))\n",
    "model.add(Dense(1, activation='sigmoid')) \n",
    "\n",
    "model.compile(loss='binary_crossentropy',\n",
    "              optimizer=Adam(),\n",
    "              metrics=['accuracy'])\n",
    "model.summary()\n",
    "model.fit(sX_train,Y_train,batch_size=100,epochs=2)"
   ]
  },
  {
   "cell_type": "code",
   "execution_count": 19,
   "id": "915d88a5",
   "metadata": {},
   "outputs": [
    {
     "name": "stdout",
     "output_type": "stream",
     "text": [
      "Overall Accuracy: 99.97%\n",
      "--------------------------\n",
      "              precision    recall  f1-score   support\n",
      "\n",
      "           0       1.00      1.00      1.00    183040\n",
      "           1       1.00      1.00      1.00    183765\n",
      "\n",
      "    accuracy                           1.00    366805\n",
      "   macro avg       1.00      1.00      1.00    366805\n",
      "weighted avg       1.00      1.00      1.00    366805\n",
      "\n"
     ]
    },
    {
     "data": {
      "image/png": "[encoded data removed]",
      "text/plain": [
       "<Figure size 800x500 with 2 Axes>"
      ]
     },
     "metadata": {},
     "output_type": "display_data"
    }
   ],
   "source": [
    "# Predictions  \n",
    "y_pred=(model.predict(sX_test)> 0.5)\n",
    "\n",
    "# display report\n",
    "report_heatmap(y_pred,Y_test) "
   ]
  },
  {
   "cell_type": "code",
   "execution_count": 23,
   "id": "c9247c71",
   "metadata": {},
   "outputs": [
    {
     "name": "stdout",
     "output_type": "stream",
     "text": [
      "Overall Accuracy: 99.96%\n",
      "--------------------------\n",
      "              precision    recall  f1-score   support\n",
      "\n",
      "           0       1.00      1.00      1.00    183040\n",
      "           1       1.00      1.00      1.00    183765\n",
      "\n",
      "    accuracy                           1.00    366805\n",
      "   macro avg       1.00      1.00      1.00    366805\n",
      "weighted avg       1.00      1.00      1.00    366805\n",
      "\n"
     ]
    },
    {
     "data": {
      "image/png": "[encoded data removed]",
      "text/plain": [
       "<Figure size 800x500 with 2 Axes>"
      ]
     },
     "metadata": {},
     "output_type": "display_data"
    }
   ],
   "source": [
    "# Predictions  \n",
    "y_pred=(model.predict(sX_test)> 0.2)\n",
    "\n",
    "# display report\n",
    "report_heatmap(y_pred,Y_test) "
   ]
  },
  {
   "cell_type": "markdown",
   "id": "978bf6a1",
   "metadata": {},
   "source": [
    "PCA --> DNN"
   ]
  },
  {
   "cell_type": "code",
   "execution_count": 29,
   "id": "ddbfe6ac",
   "metadata": {},
   "outputs": [
    {
     "name": "stdout",
     "output_type": "stream",
     "text": [
      "Model: \"sequential_3\"\n",
      "_________________________________________________________________\n",
      " Layer (type)                Output Shape              Param #   \n",
      "=================================================================\n",
      " dense_9 (Dense)             (None, 10)                60        \n",
      "                                                                 \n",
      " dense_10 (Dense)            (None, 5)                 55        \n",
      "                                                                 \n",
      " dense_11 (Dense)            (None, 1)                 6         \n",
      "                                                                 \n",
      "=================================================================\n",
      "Total params: 121\n",
      "Trainable params: 121\n",
      "Non-trainable params: 0\n",
      "_________________________________________________________________\n",
      "Train on 6969285 samples\n",
      "6969285/6969285 [==============================] - 41s 6us/sample - loss: 0.0119 - accuracy: 0.9989\n"
     ]
    },
    {
     "data": {
      "text/plain": [
       "<keras.callbacks.History at 0x270911caf10>"
      ]
     },
     "execution_count": 29,
     "metadata": {},
     "output_type": "execute_result"
    }
   ],
   "source": [
    "pca = PCA(n_components=5)  \n",
    "X_train_pca = pca.fit_transform(sX_train)  \n",
    "X_test_pca = pca.transform(sX_test)\n",
    "\n",
    "model = Sequential()\n",
    "model.add(Dense(10, activation='relu', input_shape=(X_train_pca.shape[1],)))\n",
    "\n",
    "model.add(Dense(5, activation='relu'))\n",
    "model.add(Dense(1, activation='sigmoid')) \n",
    "\n",
    "model.compile(loss='binary_crossentropy',\n",
    "              optimizer=Adam(),\n",
    "              metrics=['accuracy'])\n",
    "model.summary()\n",
    "model.fit(X_train_pca,Y_train,batch_size=100,epochs=1)"
   ]
  },
  {
   "cell_type": "code",
   "execution_count": 30,
   "id": "f1011c82",
   "metadata": {},
   "outputs": [
    {
     "name": "stdout",
     "output_type": "stream",
     "text": [
      "Overall Accuracy: 99.95%\n",
      "--------------------------\n",
      "              precision    recall  f1-score   support\n",
      "\n",
      "           0       1.00      1.00      1.00    183040\n",
      "           1       1.00      1.00      1.00    183765\n",
      "\n",
      "    accuracy                           1.00    366805\n",
      "   macro avg       1.00      1.00      1.00    366805\n",
      "weighted avg       1.00      1.00      1.00    366805\n",
      "\n"
     ]
    },
    {
     "data": {
      "image/png": "[encoded data removed]",
      "text/plain": [
       "<Figure size 800x500 with 2 Axes>"
      ]
     },
     "metadata": {},
     "output_type": "display_data"
    }
   ],
   "source": [
    "# Predictions  \n",
    "y_pred=(model.predict(X_test_pca)> 0.5)\n",
    "\n",
    "# display report\n",
    "report_heatmap(y_pred,Y_test) "
   ]
  },
  {
   "cell_type": "code",
   "execution_count": null,
   "id": "6e0e522a",
   "metadata": {},
   "outputs": [],
   "source": [
    "#end"
   ]
  }
 ],
 "metadata": {
  "kernelspec": {
   "display_name": "Python 3 (ipykernel)",
   "language": "python",
   "name": "python3"
  },
  "language_info": {
   "codemirror_mode": {
    "name": "ipython",
    "version": 3
   },
   "file_extension": ".py",
   "mimetype": "text/x-python",
   "name": "python",
   "nbconvert_exporter": "python",
   "pygments_lexer": "ipython3",
   "version": "3.9.13"
  }
 },
 "nbformat": 4,
 "nbformat_minor": 5
}
